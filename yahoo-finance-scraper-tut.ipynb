{
 "cells": [
  {
   "cell_type": "markdown",
   "metadata": {},
   "source": [
    "# Yahoo! Finance Scraper\n",
    "Extract historical stock prices using a hidden Yahoo! Finance api"
   ]
  },
  {
   "cell_type": "code",
   "execution_count": 95,
   "metadata": {},
   "outputs": [],
   "source": [
    "import re\n",
    "import json\n",
    "import csv\n",
    "import requests\n",
    "from bs4 import BeautifulSoup\n",
    "from io import StringIO"
   ]
  },
  {
   "cell_type": "markdown",
   "metadata": {},
   "source": [
    "pages that we want to scrape"
   ]
  },
  {
   "cell_type": "code",
   "execution_count": 2,
   "metadata": {},
   "outputs": [],
   "source": [
    "url_stats = 'https://finance.yahoo.com/quote/{}/key-statistics?p={}'\n",
    "url_profile = 'https://finance.yahoo.com/quote/{}/profile?p={}'\n",
    "url_financials = 'https://finance.yahoo.com/quote/{}/financials?p={}'\n",
    "url_analysis = 'https://finance.yahoo.com/quote/{}/analysis?p={}'"
   ]
  },
  {
   "cell_type": "markdown",
   "metadata": {},
   "source": [
    "target company"
   ]
  },
  {
   "cell_type": "code",
   "execution_count": 3,
   "metadata": {},
   "outputs": [],
   "source": [
    "stock = 'F'"
   ]
  },
  {
   "cell_type": "markdown",
   "metadata": {},
   "source": [
    "## Financial Statements"
   ]
  },
  {
   "cell_type": "markdown",
   "metadata": {},
   "source": [
    "request the data and parse the html"
   ]
  },
  {
   "cell_type": "code",
   "execution_count": 4,
   "metadata": {},
   "outputs": [],
   "source": [
    "response = requests.get(url_financials.format(stock, stock))\n",
    "soup = BeautifulSoup(response.text, 'html.parser')"
   ]
  },
  {
   "cell_type": "markdown",
   "metadata": {},
   "source": [
    "- Extract the json data embedded into the JavaScript code... the content contains the comment \"-- Data --\". \n",
    "- Use regular expressions to find a script tag that matches this text pattern.  \n",
    "- Assign the contents of the script tag to a `script_data` variable... it returns a list, so grab the first item in the list."
   ]
  },
  {
   "cell_type": "code",
   "execution_count": 120,
   "metadata": {},
   "outputs": [],
   "source": [
    "pattern = re.compile(r'\\s--\\sData\\s--\\s')\n",
    "script_data = soup.find('script', text=pattern).contents[0]"
   ]
  },
  {
   "cell_type": "markdown",
   "metadata": {},
   "source": [
    "The contents will contain embedded json data, but we need to strip the function wrapper from the front and back of this json data string\n",
    "- Find the word context, and back up two characters\n",
    "- The json data string ends 12 characters from the end of the contents.\n",
    "- Use these two factors to slice json data string from the contents, and then parse it to a python dictionary using the `json.loads` function"
   ]
  },
  {
   "cell_type": "code",
   "execution_count": 6,
   "metadata": {},
   "outputs": [
    {
     "data": {
      "text/plain": [
       "'\\n(function (root) {\\n/* -- Data -- */\\nroot.App || (root.App = {});\\nroot.App.now = 1600023091164;\\nroot.App.main = {\"context\":{\"dispatcher\":{\"stores\":{\"PageStore\":{\"currentPageName\":\"quote\",\"currentRenderTargetId\":\"default\",\"pagesConfigRaw\":{\"base\":{\"quote\":{\"layout\":{\"bundleName\":\"yahoodotcom-layout.TwoColumnLayout\",\"name\":\"TwoColumnLayout\",\"config\":{\"enableHeaderCollapse\":true,\"additionalBodyWrapperClasses\":\"Bgc($layoutBgColor)!\",\"contentWrapperClasses\":\"Bgc($lv2BgColor)!\",\"Header\":{\"isFixed\":tru'"
      ]
     },
     "execution_count": 6,
     "metadata": {},
     "output_type": "execute_result"
    }
   ],
   "source": [
    "# the beginning\n",
    "script_data[:500]"
   ]
  },
  {
   "cell_type": "code",
   "execution_count": 7,
   "metadata": {},
   "outputs": [
    {
     "data": {
      "text/plain": [
       "'how\":{\"strings\":1},\"tdv2-applet-sponsored-moments\":{\"strings\":1},\"tdv2-applet-stream\":{\"strings\":1},\"tdv2-applet-stream-hero\":{\"strings\":1},\"tdv2-applet-swisschamp\":{\"strings\":1},\"tdv2-applet-uh\":{\"strings\":1},\"tdv2-applet-userintent\":{\"strings\":1},\"tdv2-applet-video-lightbox\":{\"strings\":1},\"tdv2-applet-video-modal\":{\"strings\":1},\"tdv2-wafer-adfeedback\":{\"strings\":1},\"tdv2-wafer-header\":{\"strings\":1},\"yahoodotcom-layout\":{\"strings\":1}}},\"options\":{\"defaultBundle\":\"td-app-finance\"}}}};\\n}(this));\\n'"
      ]
     },
     "execution_count": 7,
     "metadata": {},
     "output_type": "execute_result"
    }
   ],
   "source": [
    "# the end\n",
    "script_data[-500:]"
   ]
  },
  {
   "cell_type": "code",
   "execution_count": 8,
   "metadata": {},
   "outputs": [],
   "source": [
    "start = script_data.index('context')-2\n",
    "json_data = json.loads(script_data[start:-12])"
   ]
  },
  {
   "cell_type": "markdown",
   "metadata": {},
   "source": [
    "Now that you have the json data, you can begin exploring the dictionary by showing the keys, and then finding out what's inside"
   ]
  },
  {
   "cell_type": "code",
   "execution_count": 9,
   "metadata": {},
   "outputs": [
    {
     "data": {
      "text/plain": [
       "dict_keys(['dispatcher', 'options', 'plugins'])"
      ]
     },
     "execution_count": 9,
     "metadata": {},
     "output_type": "execute_result"
    }
   ],
   "source": [
    "json_data['context'].keys()"
   ]
  },
  {
   "cell_type": "markdown",
   "metadata": {},
   "source": [
    "You can find the financial statements in the *QuoteSummaryStore*"
   ]
  },
  {
   "cell_type": "code",
   "execution_count": 10,
   "metadata": {},
   "outputs": [
    {
     "data": {
      "text/plain": [
       "dict_keys(['financialsTemplate', 'cashflowStatementHistory', 'balanceSheetHistoryQuarterly', 'earnings', 'price', 'incomeStatementHistoryQuarterly', 'incomeStatementHistory', 'balanceSheetHistory', 'cashflowStatementHistoryQuarterly', 'quoteType', 'summaryDetail', 'symbol', 'pageViews'])"
      ]
     },
     "execution_count": 10,
     "metadata": {},
     "output_type": "execute_result"
    }
   ],
   "source": [
    "json_data['context']['dispatcher']['stores']['QuoteSummaryStore'].keys()"
   ]
  },
  {
   "cell_type": "markdown",
   "metadata": {},
   "source": [
    "This data set contains both quarterly and annual financial statement information for:\n",
    "- Income Statement\n",
    "- Balance Sheet\n",
    "- Statement of Cashflow"
   ]
  },
  {
   "cell_type": "code",
   "execution_count": 11,
   "metadata": {},
   "outputs": [],
   "source": [
    "annual_is = json_data['context']['dispatcher']['stores']['QuoteSummaryStore']['incomeStatementHistory']['incomeStatementHistory']\n",
    "quarterly_is = json_data['context']['dispatcher']['stores']['QuoteSummaryStore']['incomeStatementHistoryQuarterly']['incomeStatementHistory']\n",
    "\n",
    "annual_cf = json_data['context']['dispatcher']['stores']['QuoteSummaryStore']['cashflowStatementHistory']['cashflowStatements']\n",
    "quarterly_cf = json_data['context']['dispatcher']['stores']['QuoteSummaryStore']['cashflowStatementHistoryQuarterly']['cashflowStatements']\n",
    "\n",
    "annual_bs = json_data['context']['dispatcher']['stores']['QuoteSummaryStore']['balanceSheetHistory']['balanceSheetStatements']\n",
    "quarterly_bs = json_data['context']['dispatcher']['stores']['QuoteSummaryStore']['balanceSheetHistoryQuarterly']['balanceSheetStatements']"
   ]
  },
  {
   "cell_type": "code",
   "execution_count": 12,
   "metadata": {},
   "outputs": [
    {
     "name": "stdout",
     "output_type": "stream",
     "text": [
      "{'researchDevelopment': {}, 'effectOfAccountingCharges': {}, 'incomeBeforeTax': {'raw': -640000000, 'fmt': '-640M', 'longFmt': '-640,000,000'}, 'minorityInterest': {'raw': 45000000, 'fmt': '45M', 'longFmt': '45,000,000'}, 'netIncome': {'raw': 47000000, 'fmt': '47M', 'longFmt': '47,000,000'}, 'sellingGeneralAdministrative': {'raw': 10218000000, 'fmt': '10.22B', 'longFmt': '10,218,000,000'}, 'grossProfit': {'raw': 12876000000, 'fmt': '12.88B', 'longFmt': '12,876,000,000'}, 'ebit': {'raw': 2658000000, 'fmt': '2.66B', 'longFmt': '2,658,000,000'}, 'endDate': {'raw': 1577750400, 'fmt': '2019-12-31'}, 'operatingIncome': {'raw': 2658000000, 'fmt': '2.66B', 'longFmt': '2,658,000,000'}, 'otherOperatingExpenses': {}, 'interestExpense': {'raw': -1049000000, 'fmt': '-1.05B', 'longFmt': '-1,049,000,000'}, 'extraordinaryItems': {}, 'nonRecurring': {}, 'otherItems': {}, 'incomeTaxExpense': {'raw': -724000000, 'fmt': '-724M', 'longFmt': '-724,000,000'}, 'totalRevenue': {'raw': 155900000000, 'fmt': '155.9B', 'longFmt': '155,900,000,000'}, 'totalOperatingExpenses': {'raw': 153242000000, 'fmt': '153.24B', 'longFmt': '153,242,000,000'}, 'costOfRevenue': {'raw': 143024000000, 'fmt': '143.02B', 'longFmt': '143,024,000,000'}, 'totalOtherIncomeExpenseNet': {'raw': -3298000000, 'fmt': '-3.3B', 'longFmt': '-3,298,000,000'}, 'maxAge': 1, 'discontinuedOperations': {}, 'netIncomeFromContinuingOps': {'raw': 84000000, 'fmt': '84M', 'longFmt': '84,000,000'}, 'netIncomeApplicableToCommonShares': {'raw': 47000000, 'fmt': '47M', 'longFmt': '47,000,000'}}\n"
     ]
    }
   ],
   "source": [
    "# income statement example\n",
    "print(annual_is[0])"
   ]
  },
  {
   "cell_type": "code",
   "execution_count": 13,
   "metadata": {},
   "outputs": [
    {
     "name": "stdout",
     "output_type": "stream",
     "text": [
      "{'raw': 2658000000, 'fmt': '2.66B', 'longFmt': '2,658,000,000'}\n"
     ]
    }
   ],
   "source": [
    "print(annual_is[0]['operatingIncome'])"
   ]
  },
  {
   "cell_type": "markdown",
   "metadata": {},
   "source": [
    "Now that you have access to the data, you can extract the pieces that you want using a for loop. For example, I want to grab the **Account** and the **Raw** number in this data set for all balance sheets. Most of these accounts include a dictionary that contains the raw attribute, however, some do not. So, I'll have to include some error handling for when I get either a `TypeError` or a `KeyError`."
   ]
  },
  {
   "cell_type": "code",
   "execution_count": 14,
   "metadata": {},
   "outputs": [],
   "source": [
    "annual_is_stmts = []\n",
    "\n",
    "# consolidate annual\n",
    "for s in annual_is:\n",
    "    statement = {}\n",
    "    for key, val in s.items():\n",
    "        try:\n",
    "            statement[key] = val['raw']\n",
    "        except TypeError:\n",
    "            continue\n",
    "        except KeyError:\n",
    "            continue\n",
    "    annual_is_stmts.append(statement)"
   ]
  },
  {
   "cell_type": "code",
   "execution_count": 15,
   "metadata": {},
   "outputs": [
    {
     "data": {
      "text/plain": [
       "{'incomeBeforeTax': -640000000,\n",
       " 'minorityInterest': 45000000,\n",
       " 'netIncome': 47000000,\n",
       " 'sellingGeneralAdministrative': 10218000000,\n",
       " 'grossProfit': 12876000000,\n",
       " 'ebit': 2658000000,\n",
       " 'endDate': 1577750400,\n",
       " 'operatingIncome': 2658000000,\n",
       " 'interestExpense': -1049000000,\n",
       " 'incomeTaxExpense': -724000000,\n",
       " 'totalRevenue': 155900000000,\n",
       " 'totalOperatingExpenses': 153242000000,\n",
       " 'costOfRevenue': 143024000000,\n",
       " 'totalOtherIncomeExpenseNet': -3298000000,\n",
       " 'netIncomeFromContinuingOps': 84000000,\n",
       " 'netIncomeApplicableToCommonShares': 47000000}"
      ]
     },
     "execution_count": 15,
     "metadata": {},
     "output_type": "execute_result"
    }
   ],
   "source": [
    "annual_is_stmts[0]"
   ]
  },
  {
   "cell_type": "markdown",
   "metadata": {},
   "source": [
    "All of the financial statements can be scrapped in this exact way... I can literally just copy and paste this code, and change the variable names from \"is\" to \"bs\" and then make sure I'm passing in the correct json data."
   ]
  },
  {
   "cell_type": "code",
   "execution_count": 16,
   "metadata": {},
   "outputs": [],
   "source": [
    "annual_cf_stmts = []\n",
    "quarterly_cf_stmts = []\n",
    "\n",
    "# annual\n",
    "for s in annual_cf:\n",
    "    statement = {}\n",
    "    for key, val in s.items():\n",
    "        try:\n",
    "            statement[key] = val['raw']\n",
    "        except TypeError:\n",
    "            continue\n",
    "        except KeyError:\n",
    "            continue\n",
    "    annual_cf_stmts.append(statement)\n",
    "    \n",
    "# quarterly\n",
    "for s in quarterly_cf:\n",
    "    statement = {}\n",
    "    for key, val in s.items():\n",
    "        try:\n",
    "            statement[key] = val['raw']\n",
    "        except TypeError:\n",
    "            continue\n",
    "        except KeyError:\n",
    "            continue\n",
    "    quarterly_cf_stmts.append(statement)"
   ]
  },
  {
   "cell_type": "code",
   "execution_count": 17,
   "metadata": {},
   "outputs": [
    {
     "data": {
      "text/plain": [
       "{'investments': -543000000,\n",
       " 'changeToLiabilities': 5260000000,\n",
       " 'totalCashflowsFromInvestingActivities': -13721000000,\n",
       " 'netBorrowings': -277000000,\n",
       " 'totalCashFromFinancingActivities': -3129000000,\n",
       " 'changeToOperatingActivities': 1554000000,\n",
       " 'netIncome': 47000000,\n",
       " 'changeInCash': 834000000,\n",
       " 'endDate': 1577750400,\n",
       " 'repurchaseOfStock': -237000000,\n",
       " 'effectOfExchangeRate': 45000000,\n",
       " 'totalCashFromOperatingActivities': 17639000000,\n",
       " 'depreciation': 8490000000,\n",
       " 'otherCashflowsFromInvestingActivities': -152000000,\n",
       " 'dividendsPaid': -2389000000,\n",
       " 'changeToInventory': 206000000,\n",
       " 'changeToAccountReceivables': -816000000,\n",
       " 'otherCashflowsFromFinancingActivities': -226000000,\n",
       " 'changeToNetincome': 2898000000,\n",
       " 'capitalExpenditures': -7632000000}"
      ]
     },
     "execution_count": 17,
     "metadata": {},
     "output_type": "execute_result"
    }
   ],
   "source": [
    "annual_cf_stmts[0]"
   ]
  },
  {
   "cell_type": "markdown",
   "metadata": {},
   "source": [
    "## Profile\n",
    "The company profile information can be scraped in exactly the same way, so I'm literally going to copy and paste the code from above. The only thing I need to do is change the url from the Financials to the Profile."
   ]
  },
  {
   "cell_type": "code",
   "execution_count": 20,
   "metadata": {},
   "outputs": [],
   "source": [
    "response = requests.get(url_profile.format(stock, stock))\n",
    "soup = BeautifulSoup(response.text, 'html.parser')\n",
    "pattern = re.compile(r'\\s--\\sData\\s--\\s')\n",
    "script_data = soup.find('script', text=pattern).contents[0]\n",
    "start = script_data.index('context')-2\n",
    "json_data = json.loads(script_data[start:-12])"
   ]
  },
  {
   "cell_type": "markdown",
   "metadata": {},
   "source": [
    "Similar to before, most of the interesting data is located in the **Quote Summary Store**"
   ]
  },
  {
   "cell_type": "code",
   "execution_count": 21,
   "metadata": {},
   "outputs": [
    {
     "data": {
      "text/plain": [
       "dict_keys(['financialsTemplate', 'price', 'secFilings', 'quoteType', 'calendarEvents', 'summaryDetail', 'symbol', 'assetProfile', 'pageViews'])"
      ]
     },
     "execution_count": 21,
     "metadata": {},
     "output_type": "execute_result"
    }
   ],
   "source": [
    "json_data['context']['dispatcher']['stores']['QuoteSummaryStore'].keys()"
   ]
  },
  {
   "cell_type": "markdown",
   "metadata": {},
   "source": [
    "Most of the information you'll want from this is in the `assetProfile` key, but the `summaryDetail` and `secFilings` are also worth checking out."
   ]
  },
  {
   "cell_type": "code",
   "execution_count": 84,
   "metadata": {},
   "outputs": [
    {
     "data": {
      "text/plain": [
       "dict_keys(['zip', 'sector', 'fullTimeEmployees', 'compensationRisk', 'auditRisk', 'longBusinessSummary', 'city', 'phone', 'state', 'shareHolderRightsRisk', 'compensationAsOfEpochDate', 'governanceEpochDate', 'boardRisk', 'country', 'companyOfficers', 'website', 'maxAge', 'overallRisk', 'address1', 'industry'])"
      ]
     },
     "execution_count": 84,
     "metadata": {},
     "output_type": "execute_result"
    }
   ],
   "source": [
    "json_data['context']['dispatcher']['stores']['QuoteSummaryStore']['assetProfile'].keys()"
   ]
  },
  {
   "cell_type": "markdown",
   "metadata": {},
   "source": [
    "**Company Officers**  \n",
    "The big deal on this page is the list of company officers; you can get their names, titles, compensation, etc... This is within `assetProfile` and then `companyOfficers`."
   ]
  },
  {
   "cell_type": "code",
   "execution_count": 24,
   "metadata": {},
   "outputs": [
    {
     "data": {
      "text/plain": [
       "[{'totalPay': {'raw': 3661316, 'fmt': '3.66M', 'longFmt': '3,661,316'},\n",
       "  'exercisedValue': {'raw': 0, 'fmt': None, 'longFmt': '0'},\n",
       "  'yearBorn': 1957,\n",
       "  'name': 'Mr. William Clay Ford Jr.',\n",
       "  'title': 'Exec. Chairman',\n",
       "  'maxAge': 1,\n",
       "  'fiscalYear': 2019,\n",
       "  'unexercisedValue': {'raw': 0, 'fmt': None, 'longFmt': '0'},\n",
       "  'age': 62},\n",
       " {'totalPay': {'raw': 4167237, 'fmt': '4.17M', 'longFmt': '4,167,237'},\n",
       "  'exercisedValue': {'raw': 0, 'fmt': None, 'longFmt': '0'},\n",
       "  'yearBorn': 1955,\n",
       "  'name': 'Mr. James Patrick Hackett',\n",
       "  'title': 'Pres, CEO & Director',\n",
       "  'maxAge': 1,\n",
       "  'fiscalYear': 2019,\n",
       "  'unexercisedValue': {'raw': 0, 'fmt': None, 'longFmt': '0'},\n",
       "  'age': 64},\n",
       " {'totalPay': {'raw': 4018261, 'fmt': '4.02M', 'longFmt': '4,018,261'},\n",
       "  'exercisedValue': {'raw': 0, 'fmt': None, 'longFmt': '0'},\n",
       "  'yearBorn': 1967,\n",
       "  'name': 'Mr. Timothy R. Stone',\n",
       "  'title': 'Chief Financial Officer',\n",
       "  'maxAge': 1,\n",
       "  'fiscalYear': 2019,\n",
       "  'unexercisedValue': {'raw': 0, 'fmt': None, 'longFmt': '0'},\n",
       "  'age': 52},\n",
       " {'totalPay': {'raw': 2274993, 'fmt': '2.27M', 'longFmt': '2,274,993'},\n",
       "  'exercisedValue': {'raw': 0, 'fmt': None, 'longFmt': '0'},\n",
       "  'yearBorn': 1962,\n",
       "  'name': 'Mr. James D. Farley Jr.',\n",
       "  'title': 'Chief Operating Officer',\n",
       "  'maxAge': 1,\n",
       "  'fiscalYear': 2019,\n",
       "  'unexercisedValue': {'raw': 0, 'fmt': None, 'longFmt': '0'},\n",
       "  'age': 57},\n",
       " {'totalPay': {'raw': 785183, 'fmt': '785.18k', 'longFmt': '785,183'},\n",
       "  'exercisedValue': {'raw': 0, 'fmt': None, 'longFmt': '0'},\n",
       "  'yearBorn': 1949,\n",
       "  'name': 'Mr. Edsel B. Ford II',\n",
       "  'title': 'Consultant & Director',\n",
       "  'maxAge': 1,\n",
       "  'fiscalYear': 2019,\n",
       "  'unexercisedValue': {'raw': 0, 'fmt': None, 'longFmt': '0'},\n",
       "  'age': 70}]"
      ]
     },
     "execution_count": 24,
     "metadata": {},
     "output_type": "execute_result"
    }
   ],
   "source": [
    "json_data['context']['dispatcher']['stores']['QuoteSummaryStore']['assetProfile']['companyOfficers']"
   ]
  },
  {
   "cell_type": "markdown",
   "metadata": {},
   "source": [
    "**Company Description**  \n",
    "Also located in the `assetProfile` is a description of the company."
   ]
  },
  {
   "cell_type": "code",
   "execution_count": 90,
   "metadata": {},
   "outputs": [
    {
     "data": {
      "text/plain": [
       "'Ford Motor Company designs, manufactures, markets, and services a range of Ford cars, trucks, sport utility vehicles, electrified vehicles, and Lincoln luxury vehicles worldwide. It operates through three segments: Automotive, Mobility, and Ford Credit. The Automotive segment sells Ford and Lincoln vehicles, service parts, and accessories through distributors and dealers, as well as through dealerships to commercial fleet customers, daily rental car companies, and governments. The Mobility segment designs and builds mobility services; and provides self-driving systems development and vehicle integration, autonomous vehicle research and engineering, and autonomous vehicle transportation-as-a-service network development services. The Ford Credit segment primarily engages in vehicle-related financing and leasing activities to and through automotive dealers. It provides retail installment sale contracts for new and used vehicles; and direct financing leases for new vehicles to retail and commercial customers, such as leasing companies, government entities, daily rental companies, and fleet customers. This segment also offers wholesale loans to dealers to finance the purchase of vehicle inventory; and loans to dealers to finance working capital and enhance dealership facilities, purchase dealership real estate, and other dealer vehicle programs. The company was founded in 1903 and is based in Dearborn, Michigan.'"
      ]
     },
     "execution_count": 90,
     "metadata": {},
     "output_type": "execute_result"
    }
   ],
   "source": [
    "json_data['context']['dispatcher']['stores']['QuoteSummaryStore']['assetProfile']['longBusinessSummary']"
   ]
  },
  {
   "cell_type": "markdown",
   "metadata": {},
   "source": [
    "**SEC Filings**  \n",
    "You can get a list of SEC filings. However, you'll need to make sure you remove the &amp sign if you want to click on the url. However, this does take you directly to the Edgars site where you can get more information."
   ]
  },
  {
   "cell_type": "code",
   "execution_count": 23,
   "metadata": {},
   "outputs": [
    {
     "data": {
      "text/plain": [
       "{'date': '2020-04-13',\n",
       " 'epochDate': 1586788296,\n",
       " 'type': '8-K',\n",
       " 'title': 'Disclosing Regulation FD Disclosure, Other Events, Financial Statements and Exhibits',\n",
       " 'edgarUrl': 'https://yahoo.brand.edgar-online.com/DisplayFiling.aspx?TabIndex=2&dcn=0000037996-20-000031&nav=1&src=Yahoo',\n",
       " 'maxAge': 1}"
      ]
     },
     "execution_count": 23,
     "metadata": {},
     "output_type": "execute_result"
    }
   ],
   "source": [
    "json_data['context']['dispatcher']['stores']['QuoteSummaryStore']['secFilings']['filings'][10]"
   ]
  },
  {
   "cell_type": "markdown",
   "metadata": {},
   "source": [
    "There's tons of summary information in the `summaryDetail` section. I'll let you explore that on your own, but you can see clearly what is in there."
   ]
  },
  {
   "cell_type": "code",
   "execution_count": 82,
   "metadata": {},
   "outputs": [
    {
     "data": {
      "text/plain": [
       "dict_keys(['previousClose', 'regularMarketOpen', 'twoHundredDayAverage', 'trailingAnnualDividendYield', 'payoutRatio', 'volume24Hr', 'regularMarketDayHigh', 'navPrice', 'averageDailyVolume10Day', 'totalAssets', 'regularMarketPreviousClose', 'fiftyDayAverage', 'trailingAnnualDividendRate', 'open', 'toCurrency', 'averageVolume10days', 'expireDate', 'yield', 'algorithm', 'dividendRate', 'exDividendDate', 'beta', 'circulatingSupply', 'startDate', 'regularMarketDayLow', 'priceHint', 'currency', 'regularMarketVolume', 'lastMarket', 'maxSupply', 'openInterest', 'marketCap', 'volumeAllCurrencies', 'strikePrice', 'averageVolume', 'priceToSalesTrailing12Months', 'dayLow', 'ask', 'ytdReturn', 'askSize', 'volume', 'fiftyTwoWeekHigh', 'forwardPE', 'maxAge', 'fromCurrency', 'fiveYearAvgDividendYield', 'fiftyTwoWeekLow', 'bid', 'tradeable', 'dividendYield', 'bidSize', 'dayHigh'])"
      ]
     },
     "execution_count": 82,
     "metadata": {},
     "output_type": "execute_result"
    }
   ],
   "source": [
    "json_data['context']['dispatcher']['stores']['QuoteSummaryStore']['summaryDetail'].keys()"
   ]
  },
  {
   "cell_type": "markdown",
   "metadata": {},
   "source": [
    "## Statistics  \n",
    "\n",
    "Now that you've see that this is basically the same process, I'll quickly show you that the same applies to the Statistics page, as well. I'll copy and paste the code we used for the profile data."
   ]
  },
  {
   "cell_type": "code",
   "execution_count": 26,
   "metadata": {},
   "outputs": [],
   "source": [
    "response = requests.get(url_stats.format(stock, stock))\n",
    "soup = BeautifulSoup(response.text, 'html.parser')\n",
    "pattern = re.compile(r'\\s--\\sData\\s--\\s')\n",
    "script_data = soup.find('script', text=pattern).contents[0]\n",
    "start = script_data.index('context')-2\n",
    "json_data = json.loads(script_data[start:-12])"
   ]
  },
  {
   "cell_type": "markdown",
   "metadata": {},
   "source": [
    "Similar to before, the interesting information is in the `QuoteSummaryStore`; specifically in the key called `defaultKeyStatistics`. There are a ton of data points here for you to scrape, so now that you know how to get the data, you can extract whatever you find is most useful to you."
   ]
  },
  {
   "cell_type": "code",
   "execution_count": 27,
   "metadata": {},
   "outputs": [
    {
     "data": {
      "text/plain": [
       "dict_keys(['annualHoldingsTurnover', 'enterpriseToRevenue', 'beta3Year', 'profitMargins', 'enterpriseToEbitda', '52WeekChange', 'morningStarRiskRating', 'forwardEps', 'revenueQuarterlyGrowth', 'sharesOutstanding', 'fundInceptionDate', 'annualReportExpenseRatio', 'totalAssets', 'bookValue', 'sharesShort', 'sharesPercentSharesOut', 'fundFamily', 'lastFiscalYearEnd', 'heldPercentInstitutions', 'netIncomeToCommon', 'trailingEps', 'lastDividendValue', 'SandP52WeekChange', 'priceToBook', 'heldPercentInsiders', 'nextFiscalYearEnd', 'yield', 'mostRecentQuarter', 'shortRatio', 'sharesShortPreviousMonthDate', 'floatShares', 'beta', 'enterpriseValue', 'priceHint', 'threeYearAverageReturn', 'lastSplitDate', 'lastSplitFactor', 'legalType', 'morningStarOverallRating', 'earningsQuarterlyGrowth', 'priceToSalesTrailing12Months', 'dateShortInterest', 'pegRatio', 'ytdReturn', 'forwardPE', 'maxAge', 'lastCapGain', 'shortPercentOfFloat', 'sharesShortPriorMonth', 'category', 'fiveYearAverageReturn'])"
      ]
     },
     "execution_count": 27,
     "metadata": {},
     "output_type": "execute_result"
    }
   ],
   "source": [
    "json_data['context']['dispatcher']['stores']['QuoteSummaryStore']['defaultKeyStatistics'].keys()"
   ]
  },
  {
   "cell_type": "code",
   "execution_count": 28,
   "metadata": {},
   "outputs": [
    {
     "data": {
      "text/plain": [
       "{'annualHoldingsTurnover': {},\n",
       " 'enterpriseToRevenue': {'raw': 1.266, 'fmt': '1.27'},\n",
       " 'beta3Year': {},\n",
       " 'profitMargins': {'raw': -0.016280001, 'fmt': '-1.63%'},\n",
       " 'enterpriseToEbitda': {'raw': 26.996, 'fmt': '27.00'},\n",
       " '52WeekChange': {'raw': -0.24731183, 'fmt': '-24.73%'},\n",
       " 'morningStarRiskRating': {},\n",
       " 'forwardEps': {'raw': 0.71, 'fmt': '0.71'},\n",
       " 'revenueQuarterlyGrowth': {},\n",
       " 'sharesOutstanding': {'raw': 3907539968,\n",
       "  'fmt': '3.91B',\n",
       "  'longFmt': '3,907,539,968'},\n",
       " 'fundInceptionDate': {},\n",
       " 'annualReportExpenseRatio': {},\n",
       " 'totalAssets': {},\n",
       " 'bookValue': {'raw': 7.748, 'fmt': '7.75'},\n",
       " 'sharesShort': {'raw': 98362703, 'fmt': '98.36M', 'longFmt': '98,362,703'},\n",
       " 'sharesPercentSharesOut': {'raw': 0.0247, 'fmt': '2.47%'},\n",
       " 'fundFamily': None,\n",
       " 'lastFiscalYearEnd': {'raw': 1577750400, 'fmt': '2019-12-31'},\n",
       " 'heldPercentInstitutions': {'raw': 0.55063, 'fmt': '55.06%'},\n",
       " 'netIncomeToCommon': {'raw': -2123000064,\n",
       "  'fmt': '-2.12B',\n",
       "  'longFmt': '-2,123,000,064'},\n",
       " 'trailingEps': {'raw': -0.535, 'fmt': '-0.54'},\n",
       " 'lastDividendValue': {},\n",
       " 'SandP52WeekChange': {'raw': 0.11441445, 'fmt': '11.44%'},\n",
       " 'priceToBook': {'raw': 0.90345895, 'fmt': '0.90'},\n",
       " 'heldPercentInsiders': {'raw': 0.00176, 'fmt': '0.18%'},\n",
       " 'nextFiscalYearEnd': {'raw': 1640908800, 'fmt': '2021-12-31'},\n",
       " 'yield': {},\n",
       " 'mostRecentQuarter': {'raw': 1593475200, 'fmt': '2020-06-30'},\n",
       " 'shortRatio': {'raw': 1.76, 'fmt': '1.76'},\n",
       " 'sharesShortPreviousMonthDate': {'raw': 1596153600, 'fmt': '2020-07-31'},\n",
       " 'floatShares': {'raw': 3898144890, 'fmt': '3.9B', 'longFmt': '3,898,144,890'},\n",
       " 'beta': {'raw': 1.323299, 'fmt': '1.32'},\n",
       " 'enterpriseValue': {'raw': 165106728960,\n",
       "  'fmt': '165.11B',\n",
       "  'longFmt': '165,106,728,960'},\n",
       " 'priceHint': {'raw': 2, 'fmt': '2', 'longFmt': '2'},\n",
       " 'threeYearAverageReturn': {},\n",
       " 'lastSplitDate': {'raw': 965260800, 'fmt': '2000-08-03'},\n",
       " 'lastSplitFactor': '1748175:1000000',\n",
       " 'legalType': None,\n",
       " 'morningStarOverallRating': {},\n",
       " 'earningsQuarterlyGrowth': {'raw': 6.547, 'fmt': '654.70%'},\n",
       " 'priceToSalesTrailing12Months': {},\n",
       " 'dateShortInterest': {'raw': 1598832000, 'fmt': '2020-08-31'},\n",
       " 'pegRatio': {'raw': 1.26, 'fmt': '1.26'},\n",
       " 'ytdReturn': {},\n",
       " 'forwardPE': {'raw': 9.859156, 'fmt': '9.86'},\n",
       " 'maxAge': 1,\n",
       " 'lastCapGain': {},\n",
       " 'shortPercentOfFloat': {'raw': 0.0278, 'fmt': '2.78%'},\n",
       " 'sharesShortPriorMonth': {'raw': 115899333,\n",
       "  'fmt': '115.9M',\n",
       "  'longFmt': '115,899,333'},\n",
       " 'category': None,\n",
       " 'fiveYearAverageReturn': {}}"
      ]
     },
     "execution_count": 28,
     "metadata": {},
     "output_type": "execute_result"
    }
   ],
   "source": [
    "json_data['context']['dispatcher']['stores']['QuoteSummaryStore']['defaultKeyStatistics']"
   ]
  },
  {
   "cell_type": "markdown",
   "metadata": {},
   "source": [
    "## Historical Stock Data\n",
    "Finally, let's take a look at how to extract the historical stock data. There's actually a hidden API for this, and originally I was going to show you how to access the json data similar to what we've done already. However, while working on this script. I realized there was a download button the page, which still accesses a hidden api, but it returns csv data instead of json formatted data. And, since the goal was to get this data into a structured csv format anyway... I figured, what's the point of trying to extract via json when I can just get exactly what I want with a single api call. So, I'm going to first show you the call, and then I'll show you how I got there."
   ]
  },
  {
   "cell_type": "code",
   "execution_count": 36,
   "metadata": {},
   "outputs": [],
   "source": [
    "stock_url = 'https://query1.finance.yahoo.com/v7/finance/download/F?period1=1568402418&period2=1600024818&interval=1d&events=history'"
   ]
  },
  {
   "cell_type": "code",
   "execution_count": 37,
   "metadata": {},
   "outputs": [],
   "source": [
    "response = requests.get(stock_url)"
   ]
  },
  {
   "cell_type": "code",
   "execution_count": 38,
   "metadata": {},
   "outputs": [],
   "source": [
    "with open('stock_data.csv', 'w', newline='', encoding='utf-8') as f:\n",
    "    f.write(response.text)"
   ]
  },
  {
   "cell_type": "markdown",
   "metadata": {},
   "source": [
    "Now, it's pretty easy to see this is an api call, with the object \"query\" words, the api version number, and the string of query parameters. We can actually simplify this api call and make it more customizable by removing the parameters and adding a curly brace for the stock ticker."
   ]
  },
  {
   "cell_type": "code",
   "execution_count": 39,
   "metadata": {},
   "outputs": [],
   "source": [
    "stock_url = 'https://query1.finance.yahoo.com/v7/finance/download/{}'"
   ]
  },
  {
   "cell_type": "code",
   "execution_count": 40,
   "metadata": {},
   "outputs": [],
   "source": [
    "params = {\n",
    "    'period1':'1568402418',\n",
    "    'period2':'1600024818',\n",
    "    'interval': '1d',\n",
    "    'events': 'history'\n",
    "}"
   ]
  },
  {
   "cell_type": "markdown",
   "metadata": {},
   "source": [
    "Now, we can customize this more easily if we want to change any parameters. It's still not especially useful because the period parameters are using timestamps that are not really readable by humans. Fortunately, we can replace those periods with a range parameter. "
   ]
  },
  {
   "cell_type": "code",
   "execution_count": 41,
   "metadata": {},
   "outputs": [],
   "source": [
    "params = {\n",
    "    'range': '5y',\n",
    "    'interval': '1d',\n",
    "    'events': 'history'\n",
    "}"
   ]
  },
  {
   "cell_type": "code",
   "execution_count": 42,
   "metadata": {},
   "outputs": [],
   "source": [
    "response = requests.get(stock_url.format('F'), params=params)"
   ]
  },
  {
   "cell_type": "markdown",
   "metadata": {},
   "source": [
    "This time, let's read this into a file object so we can see it on the screen"
   ]
  },
  {
   "cell_type": "code",
   "execution_count": 101,
   "metadata": {},
   "outputs": [
    {
     "name": "stdout",
     "output_type": "stream",
     "text": [
      "['Date', 'Open', 'High', 'Low', 'Close', 'Adj Close', 'Volume']\n",
      "['2015-09-14', '13.720000', '13.790000', '13.630000', '13.780000', '10.789936', '26093500']\n",
      "['2015-09-15', '13.800000', '14.370000', '13.790000', '14.310000', '11.204935', '46666700']\n",
      "['2015-09-16', '14.320000', '14.760000', '14.250000', '14.640000', '11.463331', '41675000']\n",
      "['2015-09-17', '14.610000', '14.880000', '14.460000', '14.600000', '11.432008', '37709000']\n"
     ]
    }
   ],
   "source": [
    "file = StringIO(response.text)\n",
    "reader = csv.reader(file)\n",
    "data = list(reader)\n",
    "\n",
    "for row in data[:5]:\n",
    "    print(row)"
   ]
  },
  {
   "cell_type": "markdown",
   "metadata": {},
   "source": [
    "So, how do we know what parameters this will accept and will not accept? They key is to take a look at the network activity on the web page. Go back to the website, and click on the summary page. Open up the developer tools, or right click an then click \"Inspect\". At the top you'll see a section call \"Network Activity\". If there are any api calls being made, they will who up here... specifically under the XHR filter. According to the Internet, XHR is a JavaScript object that is used to transfer data between your webrowser, and the webserver. If you click on some of these items, you'll notice that a new screen reveals the headers, and also the response. What I typically do is look for a response that appears to be a json formatted string, such as these. Then, I go to the headers to see what calls I need to make. However, since we aleady know what the api call looks like, we can simply look for it in this list by checking on the request url. You can see that several api calls are being made to the V7 api for different elements on the page. If you look at the parameters, you'll notice that they are slighly different than the one we originally used. Now, this is a hidden API, so they only way you're really going to know how to interact with it is by exploring and experimenting. Now, we know that it accepts a range and interval. So, one clue to finding out what values we can use is to simply look at the filters on the page. Based on what I found, the chart tab seemed to have the best information on what parameters I could use. Then it's a matter of plugging these in and seeing if it actually works."
   ]
  },
  {
   "cell_type": "code",
   "execution_count": 113,
   "metadata": {},
   "outputs": [],
   "source": [
    "params = {\n",
    "    'range': '5y',\n",
    "    'interval': '1w',\n",
    "    'events': 'history'\n",
    "}"
   ]
  },
  {
   "cell_type": "code",
   "execution_count": 115,
   "metadata": {},
   "outputs": [
    {
     "name": "stdout",
     "output_type": "stream",
     "text": [
      "['400 Bad Request: Invalid input - interval=1w is not supported. Valid intervals: [1m', ' 2m', ' 5m', ' 15m', ' 30m', ' 60m', ' 90m', ' 1h', ' 1d', ' 5d', ' 1wk', ' 1mo', ' 3mo]']\n"
     ]
    }
   ],
   "source": [
    "response = requests.get(stock_url.format('F'), params=params)\n",
    "\n",
    "file = StringIO(response.text)\n",
    "reader = csv.reader(file)\n",
    "data = list(reader)\n",
    "\n",
    "for row in data[:5]:\n",
    "    print(row)"
   ]
  },
  {
   "cell_type": "markdown",
   "metadata": {},
   "source": [
    "Fortunately, this api gives you feedback, which is a little unusual."
   ]
  },
  {
   "cell_type": "code",
   "execution_count": 116,
   "metadata": {},
   "outputs": [],
   "source": [
    "params = {\n",
    "    'range': '5y',\n",
    "    'interval': '1wk',\n",
    "    'events': 'history'\n",
    "}"
   ]
  },
  {
   "cell_type": "code",
   "execution_count": 117,
   "metadata": {},
   "outputs": [
    {
     "name": "stdout",
     "output_type": "stream",
     "text": [
      "['Date', 'Open', 'High', 'Low', 'Close', 'Adj Close', 'Volume']\n",
      "['2015-09-07', '13.750000', '13.810000', '13.530000', '13.710000', '10.735126', '22804500']\n",
      "['2015-09-14', '13.720000', '14.880000', '13.630000', '14.280000', '11.181444', '192856400']\n",
      "['2015-09-21', '14.200000', '14.430000', '13.270000', '13.530000', '10.594183', '164872900']\n",
      "['2015-09-28', '13.460000', '14.010000', '13.010000', '13.990000', '10.954370', '189171300']\n"
     ]
    }
   ],
   "source": [
    "response = requests.get(stock_url.format('F'), params=params)\n",
    "\n",
    "file = StringIO(response.text)\n",
    "reader = csv.reader(file)\n",
    "data = list(reader)\n",
    "\n",
    "for row in data[:5]:\n",
    "    print(row)"
   ]
  }
 ],
 "metadata": {
  "kernelspec": {
   "display_name": "Python 3",
   "language": "python",
   "name": "python3"
  },
  "language_info": {
   "codemirror_mode": {
    "name": "ipython",
    "version": 3
   },
   "file_extension": ".py",
   "mimetype": "text/x-python",
   "name": "python",
   "nbconvert_exporter": "python",
   "pygments_lexer": "ipython3",
   "version": "3.8.3"
  }
 },
 "nbformat": 4,
 "nbformat_minor": 4
}
