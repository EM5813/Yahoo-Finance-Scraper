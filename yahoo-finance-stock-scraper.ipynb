{
 "cells": [
  {
   "cell_type": "markdown",
   "metadata": {},
   "source": [
    "# Yahoo! Finance Scraper\n",
    "Extract historical stock data"
   ]
  },
  {
   "cell_type": "code",
   "execution_count": 1,
   "metadata": {},
   "outputs": [],
   "source": [
    "import csv\n",
    "from datetime import datetime\n",
    "import requests"
   ]
  },
  {
   "cell_type": "markdown",
   "metadata": {},
   "source": [
    "### Setting up the api call"
   ]
  },
  {
   "cell_type": "code",
   "execution_count": 2,
   "metadata": {},
   "outputs": [],
   "source": [
    "url = 'https://query1.finance.yahoo.com/v8/finance/chart/'"
   ]
  },
  {
   "cell_type": "code",
   "execution_count": 3,
   "metadata": {},
   "outputs": [],
   "source": [
    "params = {\n",
    "    'symbol': 'F',\n",
    "    'region': 'US',\n",
    "    'lang': 'en-US',\n",
    "    'includePrePost': 'false',\n",
    "    'interval': '1d',\n",
    "    'range': '5y',\n",
    "    'corsDomain': 'finance.yahoo.com',\n",
    "    '.tsrc': 'finance'    \n",
    "}"
   ]
  },
  {
   "cell_type": "code",
   "execution_count": 4,
   "metadata": {},
   "outputs": [],
   "source": [
    "headers = {\n",
    "    'accept': '*/*',\n",
    "    'accept-encoding': 'gzip, deflate, br',\n",
    "    'accept-language': 'en-US,en;q=0.9',\n",
    "    'sec-fetch-dest': 'empty',\n",
    "    'sec-fetch-mode': 'cors',\n",
    "    'sec-fetch-site': 'same-site',\n",
    "    'user-agent': 'Mozilla/5.0 (Windows NT 10.0; Win64; x64) AppleWebKit/537.36 (KHTML, like Gecko) Chrome/85.0.4183.83 Safari/537.36 Edg/85.0.564.44'    \n",
    "}"
   ]
  },
  {
   "cell_type": "code",
   "execution_count": 5,
   "metadata": {},
   "outputs": [],
   "source": [
    "# requests data from Yahoo! api\n",
    "response = requests.get(url, params=params, headers=headers)"
   ]
  },
  {
   "cell_type": "code",
   "execution_count": 6,
   "metadata": {},
   "outputs": [],
   "source": [
    "# extract json data\n",
    "json_data = response.json()"
   ]
  },
  {
   "cell_type": "markdown",
   "metadata": {},
   "source": [
    "### Explore the data dictionary to find the data that you want"
   ]
  },
  {
   "cell_type": "code",
   "execution_count": 7,
   "metadata": {},
   "outputs": [
    {
     "data": {
      "text/plain": [
       "dict_keys(['chart'])"
      ]
     },
     "execution_count": 7,
     "metadata": {},
     "output_type": "execute_result"
    }
   ],
   "source": [
    "json_data.keys()"
   ]
  },
  {
   "cell_type": "code",
   "execution_count": 8,
   "metadata": {},
   "outputs": [
    {
     "data": {
      "text/plain": [
       "dict_keys(['result', 'error'])"
      ]
     },
     "execution_count": 8,
     "metadata": {},
     "output_type": "execute_result"
    }
   ],
   "source": [
    "json_data['chart'].keys()"
   ]
  },
  {
   "cell_type": "code",
   "execution_count": 9,
   "metadata": {},
   "outputs": [
    {
     "data": {
      "text/plain": [
       "dict_keys(['meta', 'timestamp', 'indicators'])"
      ]
     },
     "execution_count": 9,
     "metadata": {},
     "output_type": "execute_result"
    }
   ],
   "source": [
    "json_data['chart']['result'][0].keys()"
   ]
  },
  {
   "cell_type": "code",
   "execution_count": 10,
   "metadata": {},
   "outputs": [
    {
     "data": {
      "text/plain": [
       "dict_keys(['quote', 'adjclose'])"
      ]
     },
     "execution_count": 10,
     "metadata": {},
     "output_type": "execute_result"
    }
   ],
   "source": [
    "json_data['chart']['result'][0]['indicators'].keys()"
   ]
  },
  {
   "cell_type": "code",
   "execution_count": 11,
   "metadata": {},
   "outputs": [
    {
     "data": {
      "text/plain": [
       "dict_keys(['volume', 'high', 'low', 'close', 'open'])"
      ]
     },
     "execution_count": 11,
     "metadata": {},
     "output_type": "execute_result"
    }
   ],
   "source": [
    "json_data['chart']['result'][0]['indicators']['quote'][0].keys()"
   ]
  },
  {
   "cell_type": "code",
   "execution_count": 13,
   "metadata": {},
   "outputs": [
    {
     "data": {
      "text/plain": [
       "[13.789999961853027,\n",
       " 14.369999885559082,\n",
       " 14.760000228881836,\n",
       " 14.880000114440918,\n",
       " 14.479999542236328,\n",
       " 14.430000305175781,\n",
       " 14.050000190734863,\n",
       " 13.949999809265137,\n",
       " 13.699999809265137,\n",
       " 13.869999885559082]"
      ]
     },
     "execution_count": 13,
     "metadata": {},
     "output_type": "execute_result"
    }
   ],
   "source": [
    "json_data['chart']['result'][0]['indicators']['quote'][0]['high'][:10]"
   ]
  },
  {
   "cell_type": "markdown",
   "metadata": {},
   "source": [
    "### Extract the data into a list"
   ]
  },
  {
   "cell_type": "code",
   "execution_count": 14,
   "metadata": {},
   "outputs": [],
   "source": [
    "# get quote information\n",
    "v = json_data['chart']['result'][0]['indicators']['quote'][0]['volume']\n",
    "h = json_data['chart']['result'][0]['indicators']['quote'][0]['high']\n",
    "l = json_data['chart']['result'][0]['indicators']['quote'][0]['low']\n",
    "o = json_data['chart']['result'][0]['indicators']['quote'][0]['open']\n",
    "c = json_data['chart']['result'][0]['indicators']['quote'][0]['close']\n",
    "\n",
    "# get timestamps and convert to standard date format\n",
    "close_dates = [datetime.utcfromtimestamp(ts).strftime('%Y-%m-%d') for ts in json_data['chart']['result'][0]['timestamp']]"
   ]
  },
  {
   "cell_type": "code",
   "execution_count": 15,
   "metadata": {},
   "outputs": [],
   "source": [
    "# consolidate into list\n",
    "stock_data = list(zip(close_dates, v, h, l, o, c))"
   ]
  },
  {
   "cell_type": "markdown",
   "metadata": {},
   "source": [
    "### Save the data to file (database or whatever)"
   ]
  },
  {
   "cell_type": "code",
   "execution_count": 16,
   "metadata": {},
   "outputs": [
    {
     "name": "stdout",
     "output_type": "stream",
     "text": [
      "('2015-09-14', 26093500, 13.789999961853027, 13.630000114440918, 13.720000267028809, 13.779999732971191)\n",
      "('2015-09-15', 46666700, 14.369999885559082, 13.789999961853027, 13.800000190734863, 14.3100004196167)\n",
      "('2015-09-16', 41675000, 14.760000228881836, 14.25, 14.319999694824219, 14.640000343322754)\n",
      "('2015-09-17', 37709000, 14.880000114440918, 14.460000038146973, 14.609999656677246, 14.600000381469727)\n",
      "('2015-09-18', 40712200, 14.479999542236328, 14.210000038146973, 14.4399995803833, 14.279999732971191)\n"
     ]
    }
   ],
   "source": [
    "# show first 5 records\n",
    "for row in stock_data[:5]:\n",
    "    print(row)"
   ]
  },
  {
   "cell_type": "code",
   "execution_count": 17,
   "metadata": {},
   "outputs": [],
   "source": [
    "# save data to csv file\n",
    "with open('ford_stock_prices_5y_daily.csv', 'w', newline='', encoding='utf-8') as f:\n",
    "    writer = csv.writer(f)\n",
    "    writer.writerow(['CloseDate', 'Volume', 'High', 'Low', 'Open', 'Close'])\n",
    "    writer.writerows(stock_data)"
   ]
  }
 ],
 "metadata": {
  "kernelspec": {
   "display_name": "Python 3",
   "language": "python",
   "name": "python3"
  },
  "language_info": {
   "codemirror_mode": {
    "name": "ipython",
    "version": 3
   },
   "file_extension": ".py",
   "mimetype": "text/x-python",
   "name": "python",
   "nbconvert_exporter": "python",
   "pygments_lexer": "ipython3",
   "version": "3.8.3"
  }
 },
 "nbformat": 4,
 "nbformat_minor": 4
}
