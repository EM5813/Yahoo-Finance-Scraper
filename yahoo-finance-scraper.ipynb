{
 "cells": [
  {
   "cell_type": "markdown",
   "metadata": {},
   "source": [
    "# Yahoo! Finance Scraper\n",
    "Extract stock and company information"
   ]
  },
  {
   "cell_type": "code",
   "execution_count": 1,
   "metadata": {},
   "outputs": [],
   "source": [
    "import csv\n",
    "from datetime import datetime\n",
    "import requests"
   ]
  },
  {
   "cell_type": "code",
   "execution_count": 2,
   "metadata": {},
   "outputs": [],
   "source": [
    "stock_symbol = 'F'\n",
    "url = 'https://query1.finance.yahoo.com/v8/finance/chart/{}'"
   ]
  },
  {
   "cell_type": "markdown",
   "metadata": {},
   "source": [
    "The parameters below can be adjusted based on those allowed by the API. You can set the interval and range per those found on the website."
   ]
  },
  {
   "cell_type": "code",
   "execution_count": 3,
   "metadata": {},
   "outputs": [],
   "source": [
    "params = {\n",
    "    'region': 'US',\n",
    "    'lang': 'en-US',\n",
    "    'includePrePost': 'false',\n",
    "    'interval': '1d',\n",
    "    'range': '5y',\n",
    "    'corsDomain': 'finance.yahoo.com',\n",
    "    '.tsrc': 'finance'    \n",
    "}"
   ]
  },
  {
   "cell_type": "code",
   "execution_count": 4,
   "metadata": {},
   "outputs": [],
   "source": [
    "headers = {\n",
    "    'accept': '*/*',\n",
    "    'accept-encoding': 'gzip, deflate, br',\n",
    "    'accept-language': 'en-US,en;q=0.9',\n",
    "    'sec-fetch-dest': 'empty',\n",
    "    'sec-fetch-mode': 'cors',\n",
    "    'sec-fetch-site': 'same-site',\n",
    "    'user-agent': 'Mozilla/5.0 (Windows NT 10.0; Win64; x64) AppleWebKit/537.36 (KHTML, like Gecko) Chrome/85.0.4183.83 Safari/537.36 Edg/85.0.564.44'    \n",
    "}"
   ]
  },
  {
   "cell_type": "code",
   "execution_count": 5,
   "metadata": {},
   "outputs": [],
   "source": [
    "# requests data from Yahoo! api\n",
    "response = requests.get(url.format(stock_symbol), params=params, headers=headers)"
   ]
  },
  {
   "cell_type": "code",
   "execution_count": 6,
   "metadata": {},
   "outputs": [],
   "source": [
    "# extract json data\n",
    "json_data = response.json()"
   ]
  },
  {
   "cell_type": "code",
   "execution_count": 7,
   "metadata": {},
   "outputs": [],
   "source": [
    "# get timestamps and convert to standard date format\n",
    "close_dates = [datetime.utcfromtimestamp(ts).strftime('%Y-%m-%d') for ts in json_data['chart']['result'][0]['timestamp']]\n",
    "\n",
    "# get quote information\n",
    "v = json_data['chart']['result'][0]['indicators']['quote'][0]['volume']\n",
    "h = json_data['chart']['result'][0]['indicators']['quote'][0]['high']\n",
    "l = json_data['chart']['result'][0]['indicators']['quote'][0]['low']\n",
    "o = json_data['chart']['result'][0]['indicators']['quote'][0]['open']\n",
    "c = json_data['chart']['result'][0]['indicators']['quote'][0]['close']"
   ]
  },
  {
   "cell_type": "code",
   "execution_count": 8,
   "metadata": {},
   "outputs": [],
   "source": [
    "# consolidate into list\n",
    "stock_data = list(zip(close_dates, v, h, l, o, c))"
   ]
  },
  {
   "cell_type": "code",
   "execution_count": 10,
   "metadata": {},
   "outputs": [
    {
     "name": "stdout",
     "output_type": "stream",
     "text": [
      "('2015-09-08', 30030100, 13.779999732971191, 13.539999961853027, 13.770000457763672, 13.670000076293945)\n",
      "('2015-09-09', 30846300, 13.84000015258789, 13.470000267028809, 13.8100004196167, 13.529999732971191)\n",
      "('2015-09-10', 38696300, 13.829999923706055, 13.350000381469727, 13.520000457763672, 13.729999542236328)\n",
      "('2015-09-11', 22804500, 13.8100004196167, 13.529999732971191, 13.75, 13.710000038146973)\n",
      "('2015-09-14', 26093500, 13.789999961853027, 13.630000114440918, 13.720000267028809, 13.779999732971191)\n"
     ]
    }
   ],
   "source": [
    "# show first 5 records\n",
    "for row in stock_data[:5]:\n",
    "    print(row)"
   ]
  },
  {
   "cell_type": "code",
   "execution_count": 11,
   "metadata": {},
   "outputs": [],
   "source": [
    "# save data to csv file\n",
    "with open('ford_stock_prices_5y_daily.csv', 'w', newline='', encoding='utf-8') as f:\n",
    "    writer = csv.writer(f)\n",
    "    writer.writerow(['CloseDate', 'Volume', 'High', 'Low', 'Open', 'Close'])\n",
    "    writer.writerows(stock_data)"
   ]
  },
  {
   "cell_type": "code",
   "execution_count": 14,
   "metadata": {},
   "outputs": [
    {
     "data": {
      "text/plain": [
       "{'currency': 'USD',\n",
       " 'symbol': 'F',\n",
       " 'exchangeName': 'NYQ',\n",
       " 'instrumentType': 'EQUITY',\n",
       " 'firstTradeDate': 76253400,\n",
       " 'regularMarketTime': 1599249780,\n",
       " 'gmtoffset': -14400,\n",
       " 'timezone': 'EDT',\n",
       " 'exchangeTimezoneName': 'America/New_York',\n",
       " 'regularMarketPrice': 6.9,\n",
       " 'chartPreviousClose': 13.56,\n",
       " 'priceHint': 2,\n",
       " 'currentTradingPeriod': {'pre': {'timezone': 'EDT',\n",
       "   'start': 1599206400,\n",
       "   'end': 1599226200,\n",
       "   'gmtoffset': -14400},\n",
       "  'regular': {'timezone': 'EDT',\n",
       "   'start': 1599226200,\n",
       "   'end': 1599249600,\n",
       "   'gmtoffset': -14400},\n",
       "  'post': {'timezone': 'EDT',\n",
       "   'start': 1599249600,\n",
       "   'end': 1599264000,\n",
       "   'gmtoffset': -14400}},\n",
       " 'dataGranularity': '1d',\n",
       " 'range': '5y',\n",
       " 'validRanges': ['1d',\n",
       "  '5d',\n",
       "  '1mo',\n",
       "  '3mo',\n",
       "  '6mo',\n",
       "  '1y',\n",
       "  '2y',\n",
       "  '5y',\n",
       "  '10y',\n",
       "  'ytd',\n",
       "  'max']}"
      ]
     },
     "execution_count": 14,
     "metadata": {},
     "output_type": "execute_result"
    }
   ],
   "source": [
    "# company meta data\n",
    "json_data['chart']['result'][0]['meta']"
   ]
  },
  {
   "cell_type": "code",
   "execution_count": null,
   "metadata": {},
   "outputs": [],
   "source": []
  }
 ],
 "metadata": {
  "kernelspec": {
   "display_name": "Python 3",
   "language": "python",
   "name": "python3"
  },
  "language_info": {
   "codemirror_mode": {
    "name": "ipython",
    "version": 3
   },
   "file_extension": ".py",
   "mimetype": "text/x-python",
   "name": "python",
   "nbconvert_exporter": "python",
   "pygments_lexer": "ipython3",
   "version": "3.8.3"
  }
 },
 "nbformat": 4,
 "nbformat_minor": 4
}
