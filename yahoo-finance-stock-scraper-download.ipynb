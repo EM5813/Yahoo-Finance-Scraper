{
 "cells": [
  {
   "cell_type": "markdown",
   "metadata": {},
   "source": [
    "# Yahoo! Finance Scraper\n",
    "Extract historical stock data"
   ]
  },
  {
   "cell_type": "code",
   "execution_count": 1,
   "metadata": {},
   "outputs": [],
   "source": [
    "import csv\n",
    "from datetime import datetime\n",
    "import requests"
   ]
  },
  {
   "cell_type": "code",
   "execution_count": 2,
   "metadata": {},
   "outputs": [],
   "source": [
    "url = 'https://query1.finance.yahoo.com/v7/finance/download/{}?'"
   ]
  },
  {
   "cell_type": "code",
   "execution_count": 3,
   "metadata": {},
   "outputs": [],
   "source": [
    "params = {\n",
    "    'interval': '1d',\n",
    "    'range': '5y',\n",
    "    'events': 'history'\n",
    "}\n",
    "\n",
    "stock = 'F'"
   ]
  },
  {
   "cell_type": "code",
   "execution_count": 4,
   "metadata": {},
   "outputs": [],
   "source": [
    "# requests data from Yahoo! api\n",
    "response = requests.get(url.format(stock), params=params)"
   ]
  },
  {
   "cell_type": "code",
   "execution_count": 5,
   "metadata": {},
   "outputs": [
    {
     "data": {
      "text/plain": [
       "'OK'"
      ]
     },
     "execution_count": 5,
     "metadata": {},
     "output_type": "execute_result"
    }
   ],
   "source": [
    "response.reason"
   ]
  },
  {
   "cell_type": "code",
   "execution_count": 6,
   "metadata": {},
   "outputs": [],
   "source": [
    "with open('downloaded3.csv', 'w', newline='') as f:\n",
    "    f.write(response.text)"
   ]
  },
  {
   "cell_type": "code",
   "execution_count": 7,
   "metadata": {},
   "outputs": [],
   "source": [
    "with open('downloaded3.csv', 'r', newline='') as f:\n",
    "    reader = csv.reader(f)\n",
    "    data = list(reader)"
   ]
  },
  {
   "cell_type": "code",
   "execution_count": 8,
   "metadata": {},
   "outputs": [
    {
     "name": "stdout",
     "output_type": "stream",
     "text": [
      "['Date', 'Open', 'High', 'Low', 'Close', 'Adj Close', 'Volume']\n",
      "['2015-09-14', '13.720000', '13.790000', '13.630000', '13.780000', '10.789936', '26093500']\n",
      "['2015-09-15', '13.800000', '14.370000', '13.790000', '14.310000', '11.204935', '46666700']\n",
      "['2015-09-16', '14.320000', '14.760000', '14.250000', '14.640000', '11.463331', '41675000']\n",
      "['2015-09-17', '14.610000', '14.880000', '14.460000', '14.600000', '11.432008', '37709000']\n",
      "['2015-09-18', '14.440000', '14.480000', '14.210000', '14.280000', '11.181444', '40712200']\n",
      "['2015-09-21', '14.200000', '14.430000', '14.150000', '14.320000', '11.212765', '20764100']\n",
      "['2015-09-22', '14.010000', '14.050000', '13.730000', '13.920000', '10.899560', '44081000']\n",
      "['2015-09-23', '13.930000', '13.950000', '13.510000', '13.680000', '10.711637', '31598400']\n",
      "['2015-09-24', '13.570000', '13.700000', '13.270000', '13.650000', '10.688146', '32462000']\n"
     ]
    }
   ],
   "source": [
    "for row in data[:10]:\n",
    "    print(row)"
   ]
  }
 ],
 "metadata": {
  "kernelspec": {
   "display_name": "Python 3",
   "language": "python",
   "name": "python3"
  },
  "language_info": {
   "codemirror_mode": {
    "name": "ipython",
    "version": 3
   },
   "file_extension": ".py",
   "mimetype": "text/x-python",
   "name": "python",
   "nbconvert_exporter": "python",
   "pygments_lexer": "ipython3",
   "version": "3.8.3"
  }
 },
 "nbformat": 4,
 "nbformat_minor": 4
}
